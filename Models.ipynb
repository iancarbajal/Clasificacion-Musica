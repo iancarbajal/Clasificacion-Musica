{
 "cells": [
  {
   "cell_type": "code",
   "execution_count": 2,
   "metadata": {},
   "outputs": [],
   "source": [
    "import json\n",
    "import torch\n",
    "from torch.utils.data import Dataset, DataLoader\n",
    "import matplotlib.pyplot as plt"
   ]
  },
  {
   "cell_type": "code",
   "execution_count": 3,
   "metadata": {},
   "outputs": [],
   "source": [
    "class EEGDataset(Dataset):\n",
    "    # Define a mapping from class labels to integers as a class attribute\n",
    "    class_mapping = {'classical': 0, 'blues': 1, 'pop': 2, 'metal': 3}\n",
    "\n",
    "    def __init__(self, json_file, SEGMENT_LENGTH=123):\n",
    "        with open(json_file, 'r') as file:\n",
    "            data = json.load(file)\n",
    "\n",
    "        self.data = []\n",
    "        for subject in data['subjects']:\n",
    "            for image in subject['view_songs']:\n",
    "                image_class = image['class']\n",
    "\n",
    "                # Exclude samples with class 'no_stimuli'\n",
    "                if image_class == 'no_stimuli':\n",
    "                    continue\n",
    "\n",
    "                # Map the class label to an integer\n",
    "                class_int = self.class_mapping.get(image_class, -1)  # Default to -1 for unknown classes\n",
    "\n",
    "                eeg_signal = image['EEG_signal']\n",
    "                # Segment the EEG signal\n",
    "                for i in range(0, len(eeg_signal), SEGMENT_LENGTH):\n",
    "                    segment = eeg_signal[i:i + SEGMENT_LENGTH]\n",
    "                    if len(segment) == SEGMENT_LENGTH:\n",
    "                        self.data.append({\n",
    "                            \"subject\": subject['name'],\n",
    "                            \"EEG_signal\": segment,\n",
    "                            \"class\": class_int,  # Use the integer label\n",
    "                            \"age\": subject['age'],\n",
    "                            \"sex\": subject['sex'],\n",
    "                        })\n",
    "\n",
    "    def __len__(self):\n",
    "        return len(self.data)\n",
    "\n",
    "    def __getitem__(self, idx):\n",
    "        item = self.data[idx]\n",
    "        eeg_signal = torch.tensor(item['EEG_signal'], dtype=torch.float)\n",
    "        return {\n",
    "            \"eeg_signal\": eeg_signal,\n",
    "            \"class\": item['class'],\n",
    "            \"subject\": item['subject'],\n",
    "            \"age\": item['age'],\n",
    "            \"sex\": item['sex'],\n",
    "        }\n",
    "\n",
    "# Access class_mapping\n",
    "# print(EEGDataset.class_mapping)"
   ]
  },
  {
   "cell_type": "code",
   "execution_count": 4,
   "metadata": {},
   "outputs": [
    {
     "name": "stdout",
     "output_type": "stream",
     "text": [
      "{'classical': 0, 'blues': 1, 'pop': 2, 'metal': 3}\n"
     ]
    }
   ],
   "source": [
    "print(EEGDataset.class_mapping)"
   ]
  },
  {
   "cell_type": "code",
   "execution_count": 5,
   "metadata": {},
   "outputs": [],
   "source": [
    "eeg_dataset = EEGDataset('SynapSound_data.json')"
   ]
  },
  {
   "cell_type": "code",
   "execution_count": 18,
   "metadata": {},
   "outputs": [
    {
     "name": "stdout",
     "output_type": "stream",
     "text": [
      "Class mapping: {'classical': 0, 'blues': 1, 'pop': 2, 'metal': 3}\n",
      "Number of samples: 7199\n",
      "Sample keys: dict_keys(['eeg_signal', 'class', 'subject', 'age', 'sex'])\n",
      "Sample signal shape: torch.Size([123, 16])\n"
     ]
    },
    {
     "data": {
      "text/plain": [
       "{'eeg_signal': tensor([[32470.9160, 24145.2930, 36186.2891,  ..., 26923.4590, 44269.0586,\n",
       "          45533.1172],\n",
       "         [32412.6445, 24088.2070, 36338.5273,  ..., 26897.7539, 44306.7227,\n",
       "          45578.2031],\n",
       "         [32487.0098, 24152.1328, 36174.1094,  ..., 26901.0391, 44271.4531,\n",
       "          45535.9805],\n",
       "         ...,\n",
       "         [32434.8184, 24095.4941, 36343.9570,  ..., 26961.3008, 44315.7070,\n",
       "          45597.2695],\n",
       "         [32494.8770, 24142.2305, 36182.3789,  ..., 26954.5938, 44277.5078,\n",
       "          45545.7461],\n",
       "         [32421.7637, 24077.2539, 36345.2109,  ..., 26955.0195, 44307.0352,\n",
       "          45579.9688]]),\n",
       " 'class': 2,\n",
       " 'subject': 'Ian-Carbajal',\n",
       " 'age': 23,\n",
       " 'sex': 1}"
      ]
     },
     "execution_count": 18,
     "metadata": {},
     "output_type": "execute_result"
    }
   ],
   "source": [
    "print(\"Class mapping:\", eeg_dataset.class_mapping)\n",
    "print(\"Number of samples:\", len(eeg_dataset))\n",
    "print(\"Sample keys:\", eeg_dataset[0].keys())\n",
    "print(\"Sample signal shape:\", eeg_dataset[0]['eeg_signal'].shape)\n",
    "eeg_dataset[0]"
   ]
  },
  {
   "cell_type": "code",
   "execution_count": 19,
   "metadata": {},
   "outputs": [],
   "source": [
    "from sklearn.model_selection import train_test_split\n",
    "\n",
    "# Assume 'labels' is a list of labels for stratification (e.g., classes of EEG data)\n",
    "labels = [item['class'] for item in eeg_dataset.data]\n",
    "\n",
    "# Split the indices of your dataset\n",
    "train_indices, val_indices = train_test_split(\n",
    "    range(len(eeg_dataset)),\n",
    "    test_size=0.2,  # 20% for validation\n",
    "    stratify=labels,\n",
    "    random_state=420  # For reproducibility\n",
    ")\n",
    "\n",
    "# Creating subsets for training and validation\n",
    "train_subset = torch.utils.data.Subset(eeg_dataset, train_indices)\n",
    "val_subset = torch.utils.data.Subset(eeg_dataset, val_indices)"
   ]
  },
  {
   "cell_type": "code",
   "execution_count": 20,
   "metadata": {},
   "outputs": [
    {
     "data": {
      "text/plain": [
       "{'eeg_signal': tensor([[50770.6250, 39298.5234,  9196.0664,  ..., 12644.0693, 17748.2910,\n",
       "          -2021.1342],\n",
       "         [50652.0039, 39210.3477,  9299.5996,  ..., 12702.4521, 17831.4844,\n",
       "          -1860.2463],\n",
       "         [50779.0078, 39308.3594,  9187.0361,  ..., 12635.5752, 17792.1445,\n",
       "          -2019.7931],\n",
       "         ...,\n",
       "         [50768.5234, 39314.0586,  9295.8672,  ..., 12714.8564, 17904.9102,\n",
       "          -1867.3765],\n",
       "         [50871.1406, 39397.8125,  9219.8262,  ..., 12683.1846, 17740.0879,\n",
       "          -2009.6677],\n",
       "         [50752.6094, 39301.4297,  9301.4102,  ..., 12715.1250, 17862.8203,\n",
       "          -1871.6233]]),\n",
       " 'class': 2,\n",
       " 'subject': 'Leopoldo-Bernal',\n",
       " 'age': 25,\n",
       " 'sex': 1}"
      ]
     },
     "execution_count": 20,
     "metadata": {},
     "output_type": "execute_result"
    }
   ],
   "source": [
    "train_subset[0]"
   ]
  },
  {
   "cell_type": "code",
   "execution_count": 21,
   "metadata": {},
   "outputs": [
    {
     "name": "stdout",
     "output_type": "stream",
     "text": [
      "Training set class counts: {2: 1441, 3: 1443, 1: 1434, 0: 1441}\n",
      "Validation set class counts: {1: 359, 2: 360, 3: 361, 0: 360}\n",
      "Training set class percentages:\n",
      "2: 25.0%\n",
      "3: 25.1%\n",
      "1: 24.9%\n",
      "0: 25.0%\n",
      "Validation set class percentages:\n",
      "1: 24.9%\n",
      "2: 25.0%\n",
      "3: 25.1%\n",
      "0: 25.0%\n"
     ]
    },
    {
     "data": {
      "image/png": "[encoded data removed]",
      "text/plain": [
       "<Figure size 1000x500 with 2 Axes>"
      ]
     },
     "metadata": {},
     "output_type": "display_data"
    }
   ],
   "source": [
    "def count_classes(dataset):\n",
    "    \"\"\" Count the occurrences of each class in the dataset. \"\"\"\n",
    "    class_counts = {}\n",
    "    for item in dataset:\n",
    "        label = item['class']\n",
    "        if label in class_counts:\n",
    "            class_counts[label] += 1\n",
    "        else:\n",
    "            class_counts[label] = 1\n",
    "    return class_counts\n",
    "\n",
    "# Count classes in each subset\n",
    "train_class_counts = count_classes(train_subset)\n",
    "val_class_counts = count_classes(val_subset)\n",
    "\n",
    "# print counts\n",
    "print(\"Training set class counts:\", train_class_counts)\n",
    "print(\"Validation set class counts:\", val_class_counts)\n",
    "\n",
    "# print percentages\n",
    "print(\"Training set class percentages:\")\n",
    "for label, count in train_class_counts.items():\n",
    "    print(f\"{label}: {count / len(train_subset):.1%}\")\n",
    "print(\"Validation set class percentages:\")\n",
    "for label, count in val_class_counts.items():\n",
    "    print(f\"{label}: {count / len(val_subset):.1%}\")\n",
    "\n",
    "\n",
    "# Plot the class distributions\n",
    "plt.figure(figsize=(10, 5))\n",
    "plt.subplot(1, 2, 1)\n",
    "plt.bar(train_class_counts.keys(), train_class_counts.values())\n",
    "plt.title('Training set')\n",
    "plt.xlabel('Class')\n",
    "plt.ylabel('Count')\n",
    "plt.subplot(1, 2, 2)\n",
    "plt.bar(val_class_counts.keys(), val_class_counts.values())\n",
    "plt.title('Validation set')\n",
    "plt.xlabel('Class')\n",
    "plt.ylabel('Count')\n",
    "plt.show()"
   ]
  },
  {
   "cell_type": "markdown",
   "metadata": {},
   "source": [
    "# DATALOADER"
   ]
  },
  {
   "cell_type": "code",
   "execution_count": 22,
   "metadata": {},
   "outputs": [],
   "source": [
    "batch_size = 10"
   ]
  },
  {
   "cell_type": "code",
   "execution_count": 23,
   "metadata": {},
   "outputs": [
    {
     "name": "stdout",
     "output_type": "stream",
     "text": [
      "EEG signal shape: torch.Size([10, 123, 16])\n",
      "Classes: tensor([3, 0, 3, 3, 0, 0, 0, 2, 2, 3]) 10\n"
     ]
    }
   ],
   "source": [
    "# DataLoader object\n",
    "data_loader = DataLoader(eeg_dataset, batch_size=batch_size, shuffle=True)\n",
    "\n",
    "# DataLoader object for training\n",
    "for batch in data_loader:\n",
    "    # Extrae los datos de cada batch\n",
    "    eeg_signals = batch['eeg_signal']  # This will be a tensor\n",
    "    classes = batch['class']  \n",
    "    print(\"EEG signal shape:\", eeg_signals.shape)\n",
    "    print(\"Classes:\", classes, len(classes))\n",
    "    break"
   ]
  },
  {
   "cell_type": "code",
   "execution_count": 24,
   "metadata": {},
   "outputs": [
    {
     "name": "stdout",
     "output_type": "stream",
     "text": [
      "Number of batches in DataLoader: 720\n",
      "Batch size: 10\n"
     ]
    }
   ],
   "source": [
    "# Explore the DataLoader object\n",
    "print(\"Number of batches in DataLoader:\", len(data_loader))\n",
    "print(\"Batch size:\", data_loader.batch_size)"
   ]
  },
  {
   "cell_type": "code",
   "execution_count": 25,
   "metadata": {},
   "outputs": [
    {
     "name": "stdout",
     "output_type": "stream",
     "text": [
      "Type of the batch: <class 'dict'>\n",
      "Keys in the batch: dict_keys(['eeg_signal', 'class', 'subject', 'age', 'sex'])\n",
      "Shape of eeg_signal: torch.Size([10, 123, 16])\n",
      "Shape of class: torch.Size([10])\n",
      "subject contains: ['Leopoldo-Bernal', 'Leopoldo-Bernal', 'YE-JIN-KIM', 'YE-JIN-KIM', 'Marin-Villareal', 'YE-JIN-KIM', 'Ian-Carbajal', 'Ian-Carbajal', 'Juan-Trelles', 'Leopoldo-Bernal']\n",
      "Shape of age: torch.Size([10])\n",
      "Shape of sex: torch.Size([10])\n"
     ]
    }
   ],
   "source": [
    "# Fetch the first batch\n",
    "one_batch = next(iter(data_loader))\n",
    "\n",
    "# Print the type and structure of the batch\n",
    "print(\"Type of the batch:\", type(one_batch))\n",
    "print(\"Keys in the batch:\", one_batch.keys())\n",
    "\n",
    "# Print the shape of each item in the batch\n",
    "for key in one_batch.keys():\n",
    "    try:\n",
    "        print(f\"Shape of {key}:\", one_batch[key].shape)\n",
    "    except AttributeError:\n",
    "        # In case it's not a tensor and doesn't have a shape attribute\n",
    "        print(f\"{key} contains:\", one_batch[key])"
   ]
  },
  {
   "cell_type": "code",
   "execution_count": 26,
   "metadata": {},
   "outputs": [],
   "source": [
    "del data_loader, one_batch"
   ]
  },
  {
   "cell_type": "code",
   "execution_count": 27,
   "metadata": {},
   "outputs": [],
   "source": [
    "# Create DataLoaders for training and validation sets\n",
    "# train loader is shuffled to avoid overfitting\n",
    "train_loader = DataLoader(train_subset, batch_size=batch_size, shuffle=True)\n",
    "# validation loader is not shuffled cause is used for evaluation\n",
    "val_loader = DataLoader(val_subset, batch_size=batch_size, shuffle=False)"
   ]
  },
  {
   "cell_type": "code",
   "execution_count": 28,
   "metadata": {},
   "outputs": [],
   "source": [
    "import torch\n",
    "import torch.nn as nn\n",
    "import torch.nn.functional as F\n",
    "\n",
    "class EEGConv(nn.Module):\n",
    "    def __init__(self, num_classes=4):\n",
    "        super(EEGConv, self).__init__()\n",
    "        \n",
    "        input_channels = 16  # Adjust this if the number of channels is different\n",
    "        self.conv1 = nn.Conv1d(in_channels=input_channels, out_channels=64, kernel_size=3)\n",
    "\n",
    "        # Assume some flattening and reduction happen after convolution\n",
    "        # The number 123 - 2 is based on the convolution operation without padding\n",
    "        conv_output_size = (123 - 2) * 64  \n",
    "\n",
    "        # First fully connected layer\n",
    "        self.fc1 = nn.Linear(conv_output_size, 128)  # 128 is an example size\n",
    "\n",
    "        # Second fully connected layer\n",
    "        self.fc2 = nn.Linear(128, 64)  # 64 is an example size\n",
    "\n",
    "        # Final classifier layer\n",
    "        self.classifier = nn.Linear(64, num_classes)\n",
    "\n",
    "    def forward(self, x):\n",
    "\n",
    "        # N is the batch size\n",
    "        # C is the number of channels\n",
    "        # L is the length of the signal sequence\n",
    "\n",
    "        # EEG signal shape: torch.Size([10, 123, 16])\n",
    "        # N: 10 is the batch size\n",
    "        # L: 123 is the length of the signal sequence\n",
    "        # C: 16 is the number of channels\n",
    "\n",
    "        # Since we need to match the input to (N, C, L) format expected by nn.Conv1d,\n",
    "        # we need to transpose the input\n",
    "        x = x.transpose(1, 2)  # Transpose the 2nd and 3rd dimension\n",
    "\n",
    "        # Apply the first convolutional layer\n",
    "        x = F.relu(self.conv1(x))\n",
    "\n",
    "        # Flatten the output for the fully connected layers\n",
    "        # x.view() is similar to numpy.reshape()\n",
    "        # The -1 is a placeholder for an inferred dimension\n",
    "        x = x.view(x.size(0), -1)\n",
    "\n",
    "        # Apply the first fully connected layer\n",
    "        x = F.relu(self.fc1(x))\n",
    "\n",
    "        # Apply the second fully connected layer\n",
    "        x = F.relu(self.fc2(x))\n",
    "\n",
    "        # Apply the classifier\n",
    "        x = self.classifier(x)\n",
    "\n",
    "        return x\n",
    "\n",
    "# Example usage\n",
    "# model = EEGNet(num_classes=4)\n",
    "# output = model(eeg_signal)  # eeg_signal should be a batch from your DataLoader"
   ]
  },
  {
   "cell_type": "code",
   "execution_count": 29,
   "metadata": {},
   "outputs": [
    {
     "name": "stdout",
     "output_type": "stream",
     "text": [
      "Device: cuda\n"
     ]
    }
   ],
   "source": [
    "import torch.optim as optim\n",
    "\n",
    "device = torch.device(\"cuda\" if torch.cuda.is_available() else \"cpu\")\n",
    "print(\"Device:\", device)\n",
    "model = EEGConv(num_classes=4).to(device)\n",
    "\n",
    "# Loss function\n",
    "criterion = nn.CrossEntropyLoss()\n",
    "\n",
    "# Optimizer (example: using Adam)\n",
    "optimizer = optim.Adam(model.parameters(), lr=0.001)"
   ]
  },
  {
   "cell_type": "code",
   "execution_count": 30,
   "metadata": {},
   "outputs": [
    {
     "name": "stdout",
     "output_type": "stream",
     "text": [
      "Epoch [1/1000], Train Loss: 260.2617, Validation Loss: 19.2403, Validation Accuracy: 0.5764\n",
      "Epoch [2/1000], Train Loss: 7.8029, Validation Loss: 2.0479, Validation Accuracy: 0.6736\n",
      "Epoch [3/1000], Train Loss: 2.9389, Validation Loss: 2.2134, Validation Accuracy: 0.5660\n",
      "Epoch [4/1000], Train Loss: 3.0440, Validation Loss: 3.1336, Validation Accuracy: 0.4313\n",
      "Epoch [5/1000], Train Loss: 1.6780, Validation Loss: 1.1424, Validation Accuracy: 0.4722\n",
      "Epoch [6/1000], Train Loss: 1.2626, Validation Loss: 1.3111, Validation Accuracy: 0.4514\n",
      "Epoch [7/1000], Train Loss: 3.8544, Validation Loss: 1.5931, Validation Accuracy: 0.3090\n",
      "Epoch [8/1000], Train Loss: 1.3819, Validation Loss: 1.3497, Validation Accuracy: 0.2667\n",
      "Epoch [9/1000], Train Loss: 1.3259, Validation Loss: 1.3498, Validation Accuracy: 0.2667\n",
      "Epoch [10/1000], Train Loss: 1.3258, Validation Loss: 1.3497, Validation Accuracy: 0.2667\n",
      "Epoch [11/1000], Train Loss: 1.3350, Validation Loss: 1.3497, Validation Accuracy: 0.2667\n",
      "Epoch [12/1000], Train Loss: 1.3300, Validation Loss: 1.3496, Validation Accuracy: 0.2743\n",
      "Epoch [13/1000], Train Loss: 1.3300, Validation Loss: 1.3496, Validation Accuracy: 0.2764\n",
      "Epoch [14/1000], Train Loss: 1.3300, Validation Loss: 1.3496, Validation Accuracy: 0.2687\n",
      "Early stopping triggered\n"
     ]
    }
   ],
   "source": [
    "num_epochs = 1000  # Number of epochs, adjust as needed\n",
    "\n",
    "# Lists to keep track of training progress\n",
    "train_losses = []\n",
    "val_losses = []\n",
    "val_accuracies = []\n",
    "\n",
    "# Early stopping parameters\n",
    "patience = 10  # Number of epochs to wait for improvement before stopping\n",
    "best_val_loss = float('inf')\n",
    "epochs_no_improve = 0\n",
    "\n",
    "for epoch in range(num_epochs):\n",
    "    # Training phase\n",
    "    model.train()  # Set the model to training mode\n",
    "    total_train_loss = 0\n",
    "\n",
    "    for batch in train_loader:\n",
    "        # Get data to cuda if possible\n",
    "        eeg_signals = batch['eeg_signal'].to(device)\n",
    "        targets = batch['class'].to(device)\n",
    "\n",
    "        # Forward pass\n",
    "        outputs = model(eeg_signals)\n",
    "        loss = criterion(outputs, targets)\n",
    "\n",
    "        # Backward and optimize\n",
    "        optimizer.zero_grad()\n",
    "        loss.backward()\n",
    "        optimizer.step()\n",
    "\n",
    "        total_train_loss += loss.item()\n",
    "\n",
    "    avg_train_loss = total_train_loss / len(train_loader)\n",
    "\n",
    "    # Validation phase\n",
    "    model.eval()  # Set the model to evaluation mode\n",
    "    total_val_loss = 0\n",
    "    correct = 0\n",
    "    total = 0\n",
    "\n",
    "    # We don't need to track gradients during validation\n",
    "    with torch.no_grad():\n",
    "        for batch in val_loader:\n",
    "            eeg_signals = batch['eeg_signal'].to(device)\n",
    "            targets = batch['class'].to(device)\n",
    "\n",
    "            # Forward pass\n",
    "            outputs = model(eeg_signals)\n",
    "            loss = criterion(outputs, targets)\n",
    "            total_val_loss += loss.item()\n",
    "\n",
    "            # To calculate accuracy\n",
    "            # torch.max returns the maximum value and its index\n",
    "            # Since the index is what we want, we can ignore the maximum value\n",
    "            # basically, we are extracting the predicted class index for each sample\n",
    "            # index because the index is equal to the class\n",
    "            _, predicted = torch.max(outputs.data, 1)\n",
    "            # total number of samples\n",
    "            total += targets.size(0)\n",
    "            # total correct predictions\n",
    "            correct += (predicted == targets).sum().item()\n",
    "\n",
    "    avg_val_loss = total_val_loss / len(val_loader)\n",
    "    val_accuracy = correct / total\n",
    "\n",
    "    # Save losses and accuracy to plot later\n",
    "    train_losses.append(avg_train_loss)\n",
    "    val_losses.append(avg_val_loss)\n",
    "    val_accuracies.append(val_accuracy)\n",
    "\n",
    "    # Early Stopping Check\n",
    "    if avg_val_loss < best_val_loss:\n",
    "        best_val_loss = avg_val_loss\n",
    "        epochs_no_improve = 0\n",
    "    else:\n",
    "        epochs_no_improve += 1\n",
    "\n",
    "    # Check if early stopping is needed\n",
    "    if epochs_no_improve == patience:\n",
    "        print(\"Early stopping triggered\")\n",
    "        break\n",
    "    \n",
    "    # Print statistics\n",
    "    print(f\"Epoch [{epoch+1}/{num_epochs}], Train Loss: {avg_train_loss:.4f}, Validation Loss: {avg_val_loss:.4f}, Validation Accuracy: {val_accuracy:.4f}\")\n",
    "    "
   ]
  },
  {
   "cell_type": "code",
   "execution_count": 31,
   "metadata": {},
   "outputs": [
    {
     "data": {
      "image/png": "[encoded data removed]",
      "text/plain": [
       "<Figure size 1200x500 with 2 Axes>"
      ]
     },
     "metadata": {},
     "output_type": "display_data"
    }
   ],
   "source": [
    "# Plotting training and validation losses\n",
    "plt.figure(figsize=(12, 5))\n",
    "plt.subplot(1, 2, 1)\n",
    "plt.plot(train_losses, label='Training Loss')\n",
    "plt.plot(val_losses, label='Validation Loss')\n",
    "plt.title('Training and Validation Loss')\n",
    "plt.xlabel('Epoch')\n",
    "plt.ylabel('Loss')\n",
    "plt.legend()\n",
    "\n",
    "# Plotting validation accuracy\n",
    "plt.subplot(1, 2, 2)\n",
    "plt.plot(val_accuracies, label='Validation Accuracy')\n",
    "plt.title('Validation Accuracy')\n",
    "plt.xlabel('Epoch')\n",
    "plt.ylabel('Accuracy')\n",
    "plt.legend()\n",
    "\n",
    "plt.show()"
   ]
  },
  {
   "cell_type": "code",
   "execution_count": null,
   "metadata": {},
   "outputs": [],
   "source": []
  }
 ],
 "metadata": {
  "kernelspec": {
   "display_name": "musica",
   "language": "python",
   "name": "python3"
  },
  "language_info": {
   "codemirror_mode": {
    "name": "ipython",
    "version": 3
   },
   "file_extension": ".py",
   "mimetype": "text/x-python",
   "name": "python",
   "nbconvert_exporter": "python",
   "pygments_lexer": "ipython3",
   "version": "3.9.21"
  }
 },
 "nbformat": 4,
 "nbformat_minor": 2
}
