{
 "cells": [
  {
   "cell_type": "code",
   "execution_count": 1,
   "metadata": {},
   "outputs": [],
   "source": [
    "import pandas as pd\n",
    "import os\n",
    "import json"
   ]
  },
  {
   "cell_type": "code",
   "execution_count": 2,
   "metadata": {},
   "outputs": [],
   "source": [
    "# Constantes\n",
    "EEG_SAMPLING_RATE = 125  # Hz\n",
    "EEG_COLUMNS = ['Fp1', 'Fp2', 'C3', 'C4', 'P7', 'P8', 'O1', 'O2', 'F7', 'F8', 'F3', 'F4', 'T7', 'T8', 'P3', 'P4']"
   ]
  },
  {
   "cell_type": "code",
   "execution_count": 14,
   "metadata": {},
   "outputs": [],
   "source": [
    "def process_experiment(eeg_file, timestamps_file):\n",
    "    # Extraer la información de la persona del nombre del archivo\n",
    "    info = eeg_file.split('_')[-1].split('.')[0].split('-')\n",
    "    name , info = eeg_file.split(\"_\")[-1].split(\".\")[0].split(\",\")\n",
    "    sex, age = info.split('-')[:2]\n",
    "    sex = 1 if sex.lower() == 'm' else 0\n",
    "\n",
    "    # Cargar datos EEG\n",
    "    eeg_df = pd.read_csv(eeg_file)\n",
    "\n",
    "    # Cargar timestamps\n",
    "    timestamps_df = pd.read_csv(timestamps_file, header=None, names=['Song', 'Timestamp'])\n",
    "\n",
    "    # Add a column for end time of each image\n",
    "    timestamps_df['EndTimestamp'] = timestamps_df['Timestamp'].shift(-1)\n",
    "    \n",
    "    for i in range(0,80,2):\n",
    "        timestamps_df.loc[i,\"EndTimestamp\"]=timestamps_df.loc[i,\"Timestamp\"]\n",
    "\n",
    "    for i in range(0,80,2):\n",
    "        timestamps_df.loc[i,\"Timestamp\"]=timestamps_df.loc[i,\"Timestamp\"]-30\n",
    "\n",
    "    for i in range(1,79,2):\n",
    "        timestamps_df.loc[i,\"EndTimestamp\"]=timestamps_df.loc[i,\"Timestamp\"]+2\n",
    "\n",
    "    timestamps_df.loc[79,\"EndTimestamp\"]=timestamps_df.loc[79,\"Timestamp\"]+2\n",
    "\n",
    "    #print(timestamps_df)\n",
    "    # Procesar cada segmento de tiempo\n",
    "    songs_data = []\n",
    "    for index, row in timestamps_df.iterrows():\n",
    "        start_time = row['Timestamp']\n",
    "        end_time = row['EndTimestamp'] if not pd.isna(row['EndTimestamp']) else timestamps_df['Timestamp'].iloc[-1]\n",
    "        \n",
    "        start_index = int(start_time * EEG_SAMPLING_RATE)\n",
    "        end_index = int(end_time * EEG_SAMPLING_RATE)\n",
    "        eeg_chunk = eeg_df.iloc[start_index:end_index].values.tolist()\n",
    "        if 'no_stimuli' in row['Song']:\n",
    "            chunk_label = 'no_stimuli'\n",
    "        else:\n",
    "            chunk_label = row['Song'].split('/')[1]  # Extract category from the path\n",
    "\n",
    "        songs_data.append({\n",
    "            \"file_path\": row['Song'],\n",
    "            \"class\": chunk_label,\n",
    "            \"EEG_signal\": eeg_chunk\n",
    "        })\n",
    "\n",
    "    return {\n",
    "        \"name\": name,\n",
    "        \"sex\": sex,\n",
    "        \"age\": int(age),\n",
    "        \"view_songs\": songs_data\n",
    "    }\n",
    "\n",
    "def consolidate_data(directory):\n",
    "    all_data = {\"subjects\": []}\n",
    "    for filename in os.listdir(directory):\n",
    "        if filename.startswith(\"output_file\"):\n",
    "            eeg_file = os.path.join(directory, filename)\n",
    "            timestamps_file = os.path.join(directory, filename.replace(\"output_file\", \"timestamps\"))\n",
    "            person_data = process_experiment(eeg_file, timestamps_file)\n",
    "            all_data[\"subjects\"].append(person_data)\n",
    "    return all_data\n",
    "\n",
    "# Uso de la función para consolidar datos\n",
    "directory = \"datos_raw\"  # Directorio donde están los archivos\n",
    "consolidated_data = consolidate_data(directory)\n"
   ]
  },
  {
   "cell_type": "code",
   "execution_count": 16,
   "metadata": {},
   "outputs": [],
   "source": [
    "# Guardar los datos consolidados en un archivo JSON\n",
    "with open('SynapSound_data.json', 'w') as json_file:\n",
    "    json.dump(consolidated_data, json_file)"
   ]
  }
 ],
 "metadata": {
  "kernelspec": {
   "display_name": "Clasificacion-Musica",
   "language": "python",
   "name": "python3"
  },
  "language_info": {
   "codemirror_mode": {
    "name": "ipython",
    "version": 3
   },
   "file_extension": ".py",
   "mimetype": "text/x-python",
   "name": "python",
   "nbconvert_exporter": "python",
   "pygments_lexer": "ipython3",
   "version": "3.13.5"
  }
 },
 "nbformat": 4,
 "nbformat_minor": 2
}
